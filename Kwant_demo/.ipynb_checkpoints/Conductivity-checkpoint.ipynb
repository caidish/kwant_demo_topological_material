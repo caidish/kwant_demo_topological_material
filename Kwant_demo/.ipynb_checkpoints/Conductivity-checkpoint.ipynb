{
 "cells": [
  {
   "cell_type": "code",
   "execution_count": 1,
   "metadata": {},
   "outputs": [
    {
     "name": "stderr",
     "output_type": "stream",
     "text": [
      "C:\\Users\\caidi\\Anaconda3\\lib\\site-packages\\kwant\\solvers\\default.py:18: RuntimeWarning: MUMPS is not available, SciPy built-in solver will be used as a fallback. Performance can be very poor in this case.\n",
      "  \"Performance can be very poor in this case.\", RuntimeWarning)\n"
     ]
    }
   ],
   "source": [
    "import kwant\n",
    "import numpy as np\n",
    "import matplotlib.pyplot as plt\n",
    "import tinyarray\n",
    "%matplotlib inline"
   ]
  },
  {
   "cell_type": "code",
   "execution_count": 2,
   "metadata": {},
   "outputs": [],
   "source": [
    "def make_syst_topo(r=30, a=1, t=1, t2=0.5):\n",
    "    syst = kwant.Builder()\n",
    "    lat = kwant.lattice.honeycomb(a,norbs = 1, name = ['a','b'])\n",
    "    \n",
    "    def circle(pos):\n",
    "        x,y = pos\n",
    "        return x**2 + y**2 < r**2\n",
    "    \n",
    "    def rect(pos):\n",
    "        x,y = pos\n",
    "        return (0<= x<r and 0<=y<r)\n",
    "        \n",
    "    syst[lat.shape(circle,(0,0))] = 0\n",
    "    syst[lat.neighbors()]=t\n",
    "    \n",
    "    syst[lat.a.neighbors()] = 1j*t2\n",
    "    syst[lat.b.neighbors()] = -1j*t2\n",
    "    syst.eradicate_dangling()\n",
    "    return lat, syst.finalized()\n"
   ]
  },
  {
   "cell_type": "code",
   "execution_count": 3,
   "metadata": {},
   "outputs": [],
   "source": [
    "lat,fsyst = make_syst_topo()"
   ]
  },
  {
   "cell_type": "code",
   "execution_count": 7,
   "metadata": {},
   "outputs": [],
   "source": [
    "where = lambda s : np.linalg.norm(s.pos)<1\n",
    "s_factory = kwant.kpm.LocalVectors(fsyst, where)\n",
    "cond_xx = kwant.kpm.conductivity(fsyst, alpha = 'x',beta = 'x', mean = True,\n",
    "                                num_vectors = None, vector_factory = s_factory)\n",
    "s_factory = kwant.kpm.LocalVectors(fsyst, where)\n",
    "cond_xy = kwant.kpm.conductivity(fsyst, alpha = 'x',beta = 'y', mean = True,\n",
    "                                num_vectors = None, vector_factory = s_factory)\n",
    "energies = cond_xx.energies\n",
    "cond_array_xx = np.array([cond_xx(e,temperature = 0.01) for e in energies])\n",
    "cond_array_xy = np.array([cond_xy(e,temperature = 0.01) for e in energies])\n",
    "\n",
    "area_per_site = np.abs(np.cross(*lat.prim_vecs))/len(lat.sublattices)\n",
    "cond_array_xx/=area_per_site\n",
    "cond_array_xy/=area_per_site\n"
   ]
  },
  {
   "cell_type": "code",
   "execution_count": 10,
   "metadata": {},
   "outputs": [
    {
     "name": "stderr",
     "output_type": "stream",
     "text": [
      "C:\\Users\\caidi\\Anaconda3\\lib\\site-packages\\numpy\\core\\numeric.py:538: ComplexWarning: Casting complex values to real discards the imaginary part\n",
      "  return array(a, dtype, copy=False, order=order)\n"
     ]
    },
    {
     "data": {
      "text/plain": [
       "[<matplotlib.lines.Line2D at 0x21a15f68248>,\n",
       " <matplotlib.lines.Line2D at 0x21a17db4588>]"
      ]
     },
     "execution_count": 10,
     "metadata": {},
     "output_type": "execute_result"
    },
    {
     "data": {
      "image/png": "[encoded data removed]",
      "text/plain": [
       "<Figure size 432x288 with 1 Axes>"
      ]
     },
     "metadata": {
      "needs_background": "light"
     },
     "output_type": "display_data"
    }
   ],
   "source": [
    "plt.plot(energies,cond_array_xx,energies,cond_array_xy)"
   ]
  },
  {
   "cell_type": "code",
   "execution_count": null,
   "metadata": {},
   "outputs": [],
   "source": [
    "def make_syst_topo_band(r=30, a=1, t=1, t2=0.5):\n",
    "    syst = kwant.Builder()\n",
    "    lat = kwant.lattice.honeycomb(a,norbs = 1, name = ['a','b'])\n",
    "    \n",
    "    def circle(pos):\n",
    "        x,y = pos\n",
    "        return x**2 + y**2 < r**2\n",
    "    \n",
    "    syst[lat.shape(circle,(0,0))] = 0\n",
    "    syst[lat.neighbors()]=t\n",
    "    \n",
    "    syst[lat.a.neighbors()] = 1j*t2\n",
    "    syst[lat.b.neighbors()] = -1j*t2\n",
    "    \n",
    "    lead = kwant.Builder(kwant.TranslationalSymmetry([-a,0]))\n",
    "    \n",
    "    return lat, syst.finalized()"
   ]
  }
 ],
 "metadata": {
  "kernelspec": {
   "display_name": "Python 3",
   "language": "python",
   "name": "python3"
  },
  "language_info": {
   "codemirror_mode": {
    "name": "ipython",
    "version": 3
   },
   "file_extension": ".py",
   "mimetype": "text/x-python",
   "name": "python",
   "nbconvert_exporter": "python",
   "pygments_lexer": "ipython3",
   "version": "3.7.4"
  }
 },
 "nbformat": 4,
 "nbformat_minor": 2
}
