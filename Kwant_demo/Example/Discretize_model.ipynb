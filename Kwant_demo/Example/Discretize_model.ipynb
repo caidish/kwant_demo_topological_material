{
 "cells": [
  {
   "cell_type": "code",
   "execution_count": 12,
   "metadata": {},
   "outputs": [],
   "source": [
    "import kwant\n",
    "import numpy as np\n",
    "import matplotlib.pyplot as plt\n",
    "import tinyarray\n",
    "%matplotlib inline\n",
    "import scipy"
   ]
  },
  {
   "cell_type": "code",
   "execution_count": 2,
   "metadata": {},
   "outputs": [
    {
     "name": "stdout",
     "output_type": "stream",
     "text": [
      "# Discrete coordinates: x\n",
      "\n",
      "# Onsite element:\n",
      "def onsite(site, A):\n",
      "    (x, ) = site.pos\n",
      "    _const_0 = (A(0.5 + x))\n",
      "    _const_1 = (A(-0.5 + x))\n",
      "    return (1.0*_const_0 + 1.0*_const_1)\n",
      "\n",
      "# Hopping from (1,):\n",
      "def hopping_1(site1, site2, A):\n",
      "    (x, ) = site1.pos\n",
      "    _const_0 = (A(0.5 + x))\n",
      "    return (-1.0*_const_0)\n"
     ]
    }
   ],
   "source": [
    "template = kwant.continuum.discretize('k_x * A(x) * k_x')\n",
    "print(template)"
   ]
  },
  {
   "cell_type": "code",
   "execution_count": 3,
   "metadata": {},
   "outputs": [],
   "source": [
    "hami = \"k_x**2 + k_y**2 + V(x,y)\"\n",
    "template = kwant.continuum.discretize(hami)"
   ]
  },
  {
   "cell_type": "code",
   "execution_count": 4,
   "metadata": {},
   "outputs": [
    {
     "name": "stdout",
     "output_type": "stream",
     "text": [
      "# Discrete coordinates: x y\n",
      "\n",
      "# Onsite element:\n",
      "def onsite(site, V):\n",
      "    (x, y, ) = site.pos\n",
      "    _const_0 = (V(x, y))\n",
      "    return (_const_0 + 4.0)\n",
      "\n",
      "# Hopping from (1, 0):\n",
      "(-1+0j)\n",
      "\n",
      "# Hopping from (0, 1):\n",
      "(-1+0j)\n"
     ]
    }
   ],
   "source": [
    "print(template)"
   ]
  },
  {
   "cell_type": "code",
   "execution_count": 7,
   "metadata": {},
   "outputs": [],
   "source": [
    "def stadium(site):\n",
    "    (x,y) = site.pos\n",
    "    x = max(abs(x)- 20, 0)\n",
    "    return x**2 + y**2 < 30**2\n",
    "syst = kwant.Builder()\n",
    "syst.fill(template, stadium,(0,0))\n",
    "syst = syst.finalized()"
   ]
  },
  {
   "cell_type": "code",
   "execution_count": 13,
   "metadata": {},
   "outputs": [],
   "source": [
    "def plot_eigenstate(syst,n=2,Vx=.0003,Vy=.0005):\n",
    "    def potential(x,y):\n",
    "        return Vx*x + Vy*y\n",
    "    ham = syst.hamiltonian_submatrix(params = dict(V=potential), sparse = True)\n",
    "    evecs = scipy.sparse.linalg.eigsh(ham,k=10,which='SM')[1]\n",
    "    kwant.plotter.map(syst,abs(evecs[:,n])**2,show = False)"
   ]
  },
  {
   "cell_type": "code",
   "execution_count": 14,
   "metadata": {},
   "outputs": [
    {
     "name": "stderr",
     "output_type": "stream",
     "text": [
      "C:\\Users\\caidi\\Anaconda3\\lib\\site-packages\\ipykernel_launcher.py:6: RuntimeWarning: The plotted data contains 1.13% of values overflowing upper limit 0.00115214 \n",
      "  \n"
     ]
    },
    {
     "data": {
      "image/png": "[encoded data removed]",
      "text/plain": [
       "<Figure size 432x288 with 2 Axes>"
      ]
     },
     "metadata": {
      "needs_background": "light"
     },
     "output_type": "display_data"
    }
   ],
   "source": [
    "plot_eigenstate(syst)"
   ]
  },
  {
   "cell_type": "code",
   "execution_count": null,
   "metadata": {},
   "outputs": [],
   "source": []
  }
 ],
 "metadata": {
  "kernelspec": {
   "display_name": "Python 3",
   "language": "python",
   "name": "python3"
  },
  "language_info": {
   "codemirror_mode": {
    "name": "ipython",
    "version": 3
   },
   "file_extension": ".py",
   "mimetype": "text/x-python",
   "name": "python",
   "nbconvert_exporter": "python",
   "pygments_lexer": "ipython3",
   "version": "3.7.7"
  }
 },
 "nbformat": 4,
 "nbformat_minor": 2
}
